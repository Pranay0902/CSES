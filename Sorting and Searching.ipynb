{
 "cells": [
  {
   "cell_type": "markdown",
   "id": "8206e7fe",
   "metadata": {},
   "source": [
    "## 1. Distinct Numbers"
   ]
  },
  {
   "cell_type": "code",
   "execution_count": 2,
   "id": "f0dd3a01",
   "metadata": {},
   "outputs": [
    {
     "name": "stdout",
     "output_type": "stream",
     "text": [
      "4\n",
      "1 2 3 3\n",
      "3\n"
     ]
    }
   ],
   "source": [
    "n = int(input())\n",
    "s = set(map(int,input().split()))\n",
    "print(len(s))"
   ]
  },
  {
   "cell_type": "code",
   "execution_count": null,
   "id": "8e257d2e",
   "metadata": {},
   "outputs": [],
   "source": []
  }
 ],
 "metadata": {
  "kernelspec": {
   "display_name": "Python 3 (ipykernel)",
   "language": "python",
   "name": "python3"
  },
  "language_info": {
   "codemirror_mode": {
    "name": "ipython",
    "version": 3
   },
   "file_extension": ".py",
   "mimetype": "text/x-python",
   "name": "python",
   "nbconvert_exporter": "python",
   "pygments_lexer": "ipython3",
   "version": "3.10.7"
  }
 },
 "nbformat": 4,
 "nbformat_minor": 5
}
