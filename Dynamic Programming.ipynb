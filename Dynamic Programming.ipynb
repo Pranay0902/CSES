{
 "cells": [
  {
   "cell_type": "markdown",
   "id": "a1b857f2",
   "metadata": {},
   "source": [
    "## 1. Dice Combinations\n",
    "### main ponit here is to take modulo every time we are summing up last 6 values, otherwise it will run very long because of addition of very high values"
   ]
  },
  {
   "cell_type": "code",
   "execution_count": 19,
   "id": "1b978669",
   "metadata": {},
   "outputs": [
    {
     "name": "stdout",
     "output_type": "stream",
     "text": [
      "999999\n",
      "511319454\n"
     ]
    }
   ],
   "source": [
    "def no_throws(n):\n",
    "    initial = [0]*6+[1]\n",
    "    for i in range(n):\n",
    "        new_val = sum(initial[-6:])%(10**9+7)\n",
    "        initial.append(new_val)\n",
    "        del initial[0]\n",
    "    return initial[-1]\n",
    "n=int(input())\n",
    "print(no_throws(n)%(10**9+7))"
   ]
  },
  {
   "cell_type": "markdown",
   "id": "f048db26",
   "metadata": {},
   "source": [
    "## 2. Minimizing Coins"
   ]
  },
  {
   "cell_type": "code",
   "execution_count": null,
   "id": "258faf29",
   "metadata": {},
   "outputs": [],
   "source": [
    "n,x = map(int,input().split())\n",
    "coins = list(map(int,input().split()))\n"
   ]
  }
 ],
 "metadata": {
  "kernelspec": {
   "display_name": "Python 3 (ipykernel)",
   "language": "python",
   "name": "python3"
  },
  "language_info": {
   "codemirror_mode": {
    "name": "ipython",
    "version": 3
   },
   "file_extension": ".py",
   "mimetype": "text/x-python",
   "name": "python",
   "nbconvert_exporter": "python",
   "pygments_lexer": "ipython3",
   "version": "3.10.7"
  }
 },
 "nbformat": 4,
 "nbformat_minor": 5
}
