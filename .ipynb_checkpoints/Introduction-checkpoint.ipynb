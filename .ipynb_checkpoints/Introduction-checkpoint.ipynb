{
 "cells": [
  {
   "cell_type": "markdown",
   "id": "a4152f78",
   "metadata": {},
   "source": [
    "## 1. Weird Algorithm"
   ]
  },
  {
   "cell_type": "code",
   "execution_count": 1,
   "id": "df10331e",
   "metadata": {},
   "outputs": [
    {
     "name": "stdout",
     "output_type": "stream",
     "text": [
      "3\n",
      "3 10 5 16 8 4 2 1\n"
     ]
    }
   ],
   "source": [
    "inp = int(input())\n",
    "while inp!=1:\n",
    "    print(inp,end=' ')\n",
    "    if inp%2==0:\n",
    "        inp=inp//2\n",
    "    else:\n",
    "        inp = inp*3+1\n",
    "print(1)"
   ]
  },
  {
   "cell_type": "markdown",
   "id": "a52d1fc8",
   "metadata": {},
   "source": [
    "## 2. Missing Number"
   ]
  },
  {
   "cell_type": "code",
   "execution_count": 2,
   "id": "9f76e825",
   "metadata": {},
   "outputs": [
    {
     "name": "stdout",
     "output_type": "stream",
     "text": [
      "5\n",
      "2 3 1 5\n",
      "4\n"
     ]
    }
   ],
   "source": [
    "n = int(input())\n",
    "lst = list(map(int, input().split()))\n",
    "sum=0\n",
    "for num in lst:\n",
    "    sum+=num\n",
    "    ans = (n*(n+1))//2-sum\n",
    "print(ans)"
   ]
  },
  {
   "cell_type": "markdown",
   "id": "242aec36",
   "metadata": {},
   "source": [
    "## 3. Repetitions"
   ]
  },
  {
   "cell_type": "code",
   "execution_count": 4,
   "id": "31e21d41",
   "metadata": {},
   "outputs": [
    {
     "name": "stdout",
     "output_type": "stream",
     "text": [
      "AAAAAAAAAAAAAAA\n",
      "15\n"
     ]
    }
   ],
   "source": [
    "s = input()\n",
    "val=0\n",
    "max_val=1\n",
    "prev_char = s[0]\n",
    "for char in s:\n",
    "    if prev_char == char:\n",
    "        val+=1\n",
    "        if val>max_val:\n",
    "            max_val=val\n",
    "    else:\n",
    "        val=1\n",
    "    prev_char = char\n",
    "print(max_val)"
   ]
  },
  {
   "cell_type": "markdown",
   "id": "06145dbf",
   "metadata": {},
   "source": [
    "## 4. Increasing Array"
   ]
  },
  {
   "cell_type": "code",
   "execution_count": 5,
   "id": "f105d0ad",
   "metadata": {},
   "outputs": [
    {
     "name": "stdout",
     "output_type": "stream",
     "text": [
      "10\n",
      "1000000000 1 1 1 1 1 1 1 1 1\n",
      "8999999991\n"
     ]
    }
   ],
   "source": [
    "N= int(input())\n",
    "arr = list(map(int,input().split()))\n",
    "count=0\n",
    "for i in range(N):\n",
    "    if i>0:\n",
    "        if arr[i] < arr[i-1]:\n",
    "            count+= arr[i-1] - arr[i]\n",
    "            arr[i] = arr[i-1]\n",
    "print(count)"
   ]
  },
  {
   "cell_type": "markdown",
   "id": "9307039f",
   "metadata": {},
   "source": [
    "## 5. Permutations"
   ]
  },
  {
   "cell_type": "code",
   "execution_count": 6,
   "id": "a865c664",
   "metadata": {},
   "outputs": [
    {
     "name": "stdout",
     "output_type": "stream",
     "text": [
      "7\n",
      "2 4 6 1 3 5 7\n"
     ]
    }
   ],
   "source": [
    "N= int(input())\n",
    " \n",
    "if N<4 and N>1:\n",
    "    print('NO SOLUTION')\n",
    "else:\n",
    "    lst = [2*(i+1) for i in range(N//2)] + [2*i+1 for i in range((N-1)//2+1)]\n",
    "    print(*lst)"
   ]
  },
  {
   "cell_type": "markdown",
   "id": "ef06821c",
   "metadata": {},
   "source": [
    "## 6. Two Knights"
   ]
  },
  {
   "cell_type": "code",
   "execution_count": 8,
   "id": "7cdbd95f",
   "metadata": {},
   "outputs": [
    {
     "name": "stdout",
     "output_type": "stream",
     "text": [
      "3\n",
      "2 3\n",
      "8\n",
      "1 1\n",
      "1\n",
      "4 2\n",
      "15\n"
     ]
    }
   ],
   "source": [
    "t = int(input())\n",
    " \n",
    "for i in range(t):\n",
    "    y,x = map(int,input().split())\n",
    "    if y == x:\n",
    "        print(x**2 -x +1)\n",
    "    elif y>x:\n",
    "        if y%2 == 1:\n",
    "            print( (y-1)**2 + x)\n",
    "        else:\n",
    "            print( (y)**2 - x +1)\n",
    "    else:\n",
    "        if x%2 == 1:\n",
    "            print( (x)**2 - y + 1)\n",
    "        else:\n",
    "            print( (x-1)**2 + y)"
   ]
  },
  {
   "cell_type": "code",
   "execution_count": null,
   "id": "5fe72e04",
   "metadata": {},
   "outputs": [],
   "source": []
  }
 ],
 "metadata": {
  "kernelspec": {
   "display_name": "Python 3 (ipykernel)",
   "language": "python",
   "name": "python3"
  },
  "language_info": {
   "codemirror_mode": {
    "name": "ipython",
    "version": 3
   },
   "file_extension": ".py",
   "mimetype": "text/x-python",
   "name": "python",
   "nbconvert_exporter": "python",
   "pygments_lexer": "ipython3",
   "version": "3.10.7"
  }
 },
 "nbformat": 4,
 "nbformat_minor": 5
}
